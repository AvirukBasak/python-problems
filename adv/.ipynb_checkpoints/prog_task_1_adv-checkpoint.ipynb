{
 "cells": [
  {
   "cell_type": "markdown",
   "id": "e55daf9b",
   "metadata": {},
   "source": [
    "#### Running Sum of 1d Array"
   ]
  },
  {
   "cell_type": "code",
   "execution_count": null,
   "id": "0adad8ce",
   "metadata": {},
   "outputs": [],
   "source": [
    "# input format: n1 n2 n3 n4\n",
    "nums = list(map(int, input().strip().split(' ')))\n",
    "\n",
    "res = []\n",
    "for n in nums:\n",
    "    if len(res) == 0: res.append(n)\n",
    "    else:\n",
    "        l = len(res)\n",
    "        res.append(res[l-1] + n)\n",
    "\n",
    "print(res)"
   ]
  },
  {
   "cell_type": "markdown",
   "id": "eef7c901",
   "metadata": {},
   "source": [
    "#### Shuffle the Array"
   ]
  },
  {
   "cell_type": "code",
   "execution_count": null,
   "id": "b7918479",
   "metadata": {},
   "outputs": [],
   "source": [
    "# input format: n1 n2 n3 n4\n",
    "nums = list(map(int, input().strip().split(' ')))\n",
    "n = len(nums) // 2\n",
    "\n",
    "res = []\n",
    "for i in range(0, n):\n",
    "    res.append(nums[i])\n",
    "    res.append(nums[i+n])\n",
    "\n",
    "print(res)"
   ]
  },
  {
   "cell_type": "markdown",
   "id": "2c75ee85",
   "metadata": {},
   "source": [
    "#### Kids With the Greatest Number of Candies"
   ]
  },
  {
   "cell_type": "code",
   "execution_count": null,
   "id": "3f79ac39",
   "metadata": {},
   "outputs": [],
   "source": [
    "# input format: n1 n2 n3 n4\n",
    "candies = list(map(int, input().strip().split(' ')))\n",
    "\n",
    "extraCandies = int(input().strip())\n",
    "\n",
    "res = []\n",
    "max = candies[0]\n",
    "\n",
    "for cnt in candies:\n",
    "    if cnt > max: max = cnt\n",
    "\n",
    "for cnt in candies:\n",
    "    if cnt + extraCandies >= max:\n",
    "        res.append(True)\n",
    "    else: res.append(False)\n",
    "\n",
    "print(res)"
   ]
  }
 ],
 "metadata": {
  "kernelspec": {
   "display_name": "Python 3 (ipykernel)",
   "language": "python",
   "name": "python3"
  },
  "language_info": {
   "codemirror_mode": {
    "name": "ipython",
    "version": 3
   },
   "file_extension": ".py",
   "mimetype": "text/x-python",
   "name": "python",
   "nbconvert_exporter": "python",
   "pygments_lexer": "ipython3",
   "version": "3.9.7"
  }
 },
 "nbformat": 4,
 "nbformat_minor": 5
}
