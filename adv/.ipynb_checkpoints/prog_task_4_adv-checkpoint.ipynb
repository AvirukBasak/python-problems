{
 "cells": [
  {
   "cell_type": "markdown",
   "id": "73edf76b",
   "metadata": {},
   "source": [
    "#### Single Number"
   ]
  },
  {
   "cell_type": "code",
   "execution_count": null,
   "id": "6caa7efc",
   "metadata": {},
   "outputs": [],
   "source": [
    "import itertools\n",
    "import operator\n",
    "\n",
    "# input format: n1 n2 n3 n4\n",
    "nums = list(map(int, input().strip().split(' ')))\n",
    "\n",
    "*_, el = itertools.accumulate(nums, operator.xor)\n",
    "print(el)"
   ]
  },
  {
   "cell_type": "markdown",
   "id": "a7313d7c",
   "metadata": {},
   "source": [
    "#### Sort Integers by The Number of 1 Bits"
   ]
  },
  {
   "cell_type": "code",
   "execution_count": null,
   "id": "1ceed2a0",
   "metadata": {},
   "outputs": [],
   "source": [
    "# input format: n1 n2 n3 n4\n",
    "arr = list(map(int, input().strip().split(' ')))\n",
    "\n",
    "# merge sort\n",
    "def sortArray(lst, key=lambda x: x):\n",
    "    if len(lst) <= 1:\n",
    "        return lst\n",
    "\n",
    "    m = len(lst) >> 1\n",
    "    left = lst[:m]\n",
    "    right = lst[m:]\n",
    "\n",
    "    left = sortArray(left, key)\n",
    "    right = sortArray(right, key)\n",
    "\n",
    "    res = []\n",
    "    i, j = 0, 0\n",
    "    while i < len(left) and j < len(right):\n",
    "        if key(left[i]) <= key(right[j]):\n",
    "            res.append(left[i])\n",
    "            i += 1\n",
    "        else:\n",
    "            res.append(right[j])\n",
    "            j += 1\n",
    "\n",
    "    res += left[i:]\n",
    "    res += right[j:]\n",
    "    return res\n",
    "\n",
    "def countBits(x):\n",
    "    c = 0\n",
    "    while x:\n",
    "        c += x & 1\n",
    "        x >>= 1\n",
    "    return c\n",
    "    \n",
    "arr = sortArray(arr)\n",
    "arr = sortArray(arr, countBits)\n",
    "print(arr)"
   ]
  },
  {
   "cell_type": "markdown",
   "id": "dd33be89",
   "metadata": {},
   "source": [
    "#### Single Number III"
   ]
  },
  {
   "cell_type": "code",
   "execution_count": null,
   "id": "9336e087",
   "metadata": {},
   "outputs": [],
   "source": [
    "# input format: n1 n2 n3 n4\n",
    "nums = list(map(int, input().strip().split(' ')))\n",
    "\n",
    "dc = {}\n",
    "for n in nums:\n",
    "    if n in dc: dc[n] += 1\n",
    "    else: dc[n] = 1\n",
    "\n",
    "res = []\n",
    "for n in dc:\n",
    "    if dc[n] == 1: res += [n]\n",
    "\n",
    "print(res)"
   ]
  },
  {
   "cell_type": "markdown",
   "id": "8264e600",
   "metadata": {},
   "source": [
    "#### Subsets"
   ]
  },
  {
   "cell_type": "code",
   "execution_count": null,
   "id": "2a91c6e9",
   "metadata": {},
   "outputs": [],
   "source": [
    "# input format: n1 n2 n3 n4\n",
    "nums = list(map(int, input().strip().split(' ')))\n",
    "\n",
    "def subsets(nums):\n",
    "    ln = len(nums)\n",
    "    ans = []\n",
    "    def backtrack(i, stk=[]):\n",
    "        if ln == i:\n",
    "            ans.append(stk.copy())\n",
    "            return\n",
    "        backtrack(i+1, stk)\n",
    "        stk.append(nums[i])\n",
    "        backtrack(i+1, stk)\n",
    "        stk.pop()\n",
    "    backtrack(0)\n",
    "    return ans\n",
    "\n",
    "print(subsets(nums))"
   ]
  }
 ],
 "metadata": {
  "kernelspec": {
   "display_name": "Python 3 (ipykernel)",
   "language": "python",
   "name": "python3"
  },
  "language_info": {
   "codemirror_mode": {
    "name": "ipython",
    "version": 3
   },
   "file_extension": ".py",
   "mimetype": "text/x-python",
   "name": "python",
   "nbconvert_exporter": "python",
   "pygments_lexer": "ipython3",
   "version": "3.9.7"
  }
 },
 "nbformat": 4,
 "nbformat_minor": 5
}
