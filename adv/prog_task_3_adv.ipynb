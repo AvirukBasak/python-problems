{
 "cells": [
  {
   "cell_type": "markdown",
   "id": "2b216cc4",
   "metadata": {},
   "source": [
    "#### Maximum Product of Two Elements in an Array"
   ]
  },
  {
   "cell_type": "code",
   "execution_count": null,
   "id": "0ede5971",
   "metadata": {},
   "outputs": [],
   "source": [
    "# input format: n1 n2 n3 n4\n",
    "nums = list(map(int, input().strip().split(' ')))\n",
    "\n",
    "max1 = max(nums)\n",
    "nums.remove(max1)\n",
    "max2 = max(nums)\n",
    "\n",
    "print((max1-1) * (max2-1))"
   ]
  },
  {
   "cell_type": "markdown",
   "id": "ba4a2406",
   "metadata": {},
   "source": [
    "#### Count Number of Teams"
   ]
  },
  {
   "cell_type": "code",
   "execution_count": null,
   "id": "541754f8",
   "metadata": {},
   "outputs": [],
   "source": [
    "# input format: n1 n2 n3 n4\n",
    "rating = list(map(int, input().strip().split(' ')))\n",
    "\n",
    "count = 0\n",
    "for i in range(0, len(rating)):\n",
    "    for j in range(i+1, len(rating)):\n",
    "        for k in range(j+1, len(rating)):\n",
    "            if (rating[i] < rating[j] and rating[j] < rating[k]) or (rating[k] < rating[j] and rating[j] < rating[i]):\n",
    "                count += 1\n",
    "\n",
    "print(count)"
   ]
  },
  {
   "cell_type": "markdown",
   "id": "41154dbf",
   "metadata": {},
   "source": [
    "#### Number of Students Doing Homework at a Given Time"
   ]
  },
  {
   "cell_type": "code",
   "execution_count": null,
   "id": "4b7fb8fa",
   "metadata": {},
   "outputs": [],
   "source": [
    "# input format: n1 n2 n3 n4\n",
    "startTime = list(map(int, input().strip().split(' ')))\n",
    "endTime = list(map(int, input().strip().split(' ')))\n",
    "\n",
    "queryTime = int(input().strip())\n",
    "\n",
    "count = 0\n",
    "for i in range(len(startTime)):\n",
    "    if startTime[i] <= queryTime and queryTime <= endTime[i]:\n",
    "        count += 1\n",
    "\n",
    "print(count)"
   ]
  },
  {
   "cell_type": "markdown",
   "id": "9d6a489f",
   "metadata": {},
   "source": [
    "#### Number of Steps to Reduce a Number to Zero"
   ]
  },
  {
   "cell_type": "code",
   "execution_count": null,
   "id": "2b2aff4e",
   "metadata": {},
   "outputs": [],
   "source": [
    "num = int(input().strip())\n",
    "c = 0\n",
    "while num:\n",
    "    if num % 2: num -= 1\n",
    "    else: num //= 2\n",
    "    c += 1\n",
    "print(c)"
   ]
  },
  {
   "cell_type": "markdown",
   "id": "8f52808a",
   "metadata": {},
   "source": [
    "#### Counting Bits"
   ]
  },
  {
   "cell_type": "code",
   "execution_count": null,
   "id": "91c72705",
   "metadata": {},
   "outputs": [],
   "source": [
    "n = int(input().strip())\n",
    "def count(i):\n",
    "    c = 0\n",
    "    while i:\n",
    "        c += i & 1\n",
    "        i //= 2\n",
    "    return c\n",
    "res = []\n",
    "for i in range(0, n+1):\n",
    "    res.append(count(i))\n",
    "print(res)"
   ]
  }
 ],
 "metadata": {
  "kernelspec": {
   "display_name": "Python 3 (ipykernel)",
   "language": "python",
   "name": "python3"
  },
  "language_info": {
   "codemirror_mode": {
    "name": "ipython",
    "version": 3
   },
   "file_extension": ".py",
   "mimetype": "text/x-python",
   "name": "python",
   "nbconvert_exporter": "python",
   "pygments_lexer": "ipython3",
   "version": "3.9.7"
  }
 },
 "nbformat": 4,
 "nbformat_minor": 5
}
