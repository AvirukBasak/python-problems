{
 "cells": [
  {
   "cell_type": "markdown",
   "id": "eae67605",
   "metadata": {},
   "source": [
    "#### Subsets"
   ]
  },
  {
   "cell_type": "code",
   "execution_count": null,
   "id": "556fd936",
   "metadata": {},
   "outputs": [],
   "source": [
    "# input format: n1 n2 n3 n4\n",
    "nums = list(map(int, input().strip().split(' ')))\n",
    "\n",
    "def subsets(nums):\n",
    "    ln = len(nums)\n",
    "    ans = []\n",
    "    def backtrack(i, stk=[]):\n",
    "        if ln == i:\n",
    "            ans.append(stk.copy())\n",
    "            return\n",
    "        backtrack(i+1, stk)\n",
    "        stk.append(nums[i])\n",
    "        backtrack(i+1, stk)\n",
    "        stk.pop()\n",
    "    backtrack(0)\n",
    "    return ans\n",
    "\n",
    "print(subsets(nums))"
   ]
  },
  {
   "cell_type": "markdown",
   "id": "de0400e9",
   "metadata": {},
   "source": [
    "#### Hamming Distance"
   ]
  },
  {
   "cell_type": "code",
   "execution_count": null,
   "id": "544af3fb",
   "metadata": {},
   "outputs": [],
   "source": [
    "# input format: n1, n2\n",
    "n1, n2 = eval(input().strip())\n",
    "\n",
    "def countBits(x):\n",
    "    c = 0\n",
    "    while x:\n",
    "        c += x & 1\n",
    "        x >>= 1\n",
    "    return c\n",
    "\n",
    "hd = countBits(n1^n2)\n",
    "print(hd)"
   ]
  },
  {
   "cell_type": "markdown",
   "id": "5030f901",
   "metadata": {},
   "source": [
    "#### Single Number II"
   ]
  },
  {
   "cell_type": "code",
   "execution_count": null,
   "id": "0517b5f5",
   "metadata": {},
   "outputs": [],
   "source": [
    "# input format: n1 n2 n3 n4\n",
    "nums = list(map(int, input().strip().split(' ')))\n"
   ]
  }
 ],
 "metadata": {
  "kernelspec": {
   "display_name": "Python 3 (ipykernel)",
   "language": "python",
   "name": "python3"
  },
  "language_info": {
   "codemirror_mode": {
    "name": "ipython",
    "version": 3
   },
   "file_extension": ".py",
   "mimetype": "text/x-python",
   "name": "python",
   "nbconvert_exporter": "python",
   "pygments_lexer": "ipython3",
   "version": "3.9.7"
  }
 },
 "nbformat": 4,
 "nbformat_minor": 5
}
