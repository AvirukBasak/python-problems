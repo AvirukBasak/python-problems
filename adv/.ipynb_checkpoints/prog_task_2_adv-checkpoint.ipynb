{
 "cells": [
  {
   "cell_type": "markdown",
   "id": "2c7183d9",
   "metadata": {},
   "source": [
    "#### Defanging an IP Address"
   ]
  },
  {
   "cell_type": "code",
   "execution_count": null,
   "id": "95d535e1",
   "metadata": {
    "scrolled": false
   },
   "outputs": [],
   "source": [
    "address = input().strip()\n",
    "res = ''\n",
    "for ch in address:\n",
    "    if ch == '.':\n",
    "        res += '[.]'\n",
    "    else: res += ch\n",
    "print(res)"
   ]
  },
  {
   "cell_type": "markdown",
   "id": "ab1b5fd8",
   "metadata": {},
   "source": [
    "#### Find Numbers w/ Even No. of Digits"
   ]
  },
  {
   "cell_type": "code",
   "execution_count": null,
   "id": "d936fae8",
   "metadata": {},
   "outputs": [],
   "source": [
    "from math import floor, log10\n",
    "\n",
    "# input format: n1 n2 n3 n4\n",
    "nums = list(map(int, input().strip().split(' ')))\n",
    "\n",
    "count = 0\n",
    "for n in nums:\n",
    "    if n == 0:\n",
    "        dig = 1\n",
    "    else:\n",
    "        dig = floor(log10(abs(n))) +1\n",
    "    if dig % 2 == 0:\n",
    "        count += 1\n",
    "print(count)"
   ]
  },
  {
   "cell_type": "markdown",
   "id": "630940bb",
   "metadata": {},
   "source": [
    "#### No. of Good Pairs"
   ]
  },
  {
   "cell_type": "code",
   "execution_count": null,
   "id": "8aa234ea",
   "metadata": {},
   "outputs": [],
   "source": [
    "# input format: n1 n2 n3 n4\n",
    "nums = list(map(int, input().strip().split(' ')))\n",
    "\n",
    "mp = {}\n",
    "\n",
    "# count repetitions of a number\n",
    "for n in nums:\n",
    "    if n in mp.keys():\n",
    "        mp[n] += 1\n",
    "    else:\n",
    "        mp[n] = 1\n",
    "\n",
    "count = 0\n",
    "for n in mp.keys():\n",
    "    l = mp[n]\n",
    "    # no of pairs possible for l repetitions:\n",
    "    # (l-1) + (l-2) + ... (1) + (0)\n",
    "    count += l * (l +1) // 2 - l\n",
    "\n",
    "print(count)"
   ]
  },
  {
   "cell_type": "markdown",
   "id": "942cef2b",
   "metadata": {},
   "source": [
    "#### How Many Numbers Are Smaller Than the Current Number"
   ]
  },
  {
   "cell_type": "code",
   "execution_count": null,
   "id": "ed8cbd5d",
   "metadata": {},
   "outputs": [],
   "source": [
    "# input format: n1 n2 n3 n4\n",
    "nums = list(map(int, input().strip().split(' ')))\n",
    "\n",
    "res = []\n",
    "for m in nums:\n",
    "    c = 0\n",
    "    for n in nums:\n",
    "        if n < m: c += 1\n",
    "    res.append(c)\n",
    "\n",
    "print(res)"
   ]
  },
  {
   "cell_type": "markdown",
   "id": "2ac621df",
   "metadata": {},
   "source": [
    "#### Subtract the Product and Sum of Digits of an Integer"
   ]
  },
  {
   "cell_type": "code",
   "execution_count": null,
   "id": "d29049aa",
   "metadata": {},
   "outputs": [],
   "source": [
    "n = int(input().strip())\n",
    "\n",
    "no = n\n",
    "prod = 1\n",
    "while no:\n",
    "    prod *= no % 10\n",
    "    no //= 10\n",
    "\n",
    "no = n\n",
    "sum = 0\n",
    "while no:\n",
    "    sum += no % 10\n",
    "    no //= 10\n",
    "\n",
    "print(prod - sum)"
   ]
  },
  {
   "cell_type": "markdown",
   "id": "e8c5f5e1",
   "metadata": {},
   "source": [
    "#### XOR Operation in an Array"
   ]
  },
  {
   "cell_type": "code",
   "execution_count": null,
   "id": "00c30ba6",
   "metadata": {},
   "outputs": [],
   "source": [
    "import itertools as it\n",
    "import operator as op\n",
    "\n",
    "n = int(input().strip())\n",
    "\n",
    "nums = [ start + 2 * i for i in range(n) ]\n",
    "*_, last = it.accumulate(nums, op.xor)\n",
    "print(last)"
   ]
  }
 ],
 "metadata": {
  "kernelspec": {
   "display_name": "Python 3 (ipykernel)",
   "language": "python",
   "name": "python3"
  },
  "language_info": {
   "codemirror_mode": {
    "name": "ipython",
    "version": 3
   },
   "file_extension": ".py",
   "mimetype": "text/x-python",
   "name": "python",
   "nbconvert_exporter": "python",
   "pygments_lexer": "ipython3",
   "version": "3.9.7"
  }
 },
 "nbformat": 4,
 "nbformat_minor": 5
}
